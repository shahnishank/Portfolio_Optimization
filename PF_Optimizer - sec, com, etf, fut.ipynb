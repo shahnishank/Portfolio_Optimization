{
 "cells": [
  {
   "cell_type": "markdown",
   "id": "20b88e37-cebf-43c1-a34b-366b6bb3ebb6",
   "metadata": {},
   "source": [
    "----"
   ]
  },
  {
   "cell_type": "code",
   "execution_count": null,
   "id": "b9cffd97-ea33-46ee-9dd1-3051174d5882",
   "metadata": {
    "scrolled": true
   },
   "outputs": [],
   "source": [
    "# Set-up and importing required libraries.\n",
    "\n",
    "import pandas as pd\n",
    "import numpy as np\n",
    "import matplotlib.pyplot as plt\n",
    "from sklearn.linear_model import LinearRegression\n",
    "import matplotlib.ticker as ticker\n",
    "aspect_ratio = (12,8)\n",
    "annualization_factor = 260"
   ]
  },
  {
   "cell_type": "code",
   "execution_count": null,
   "id": "f04e519a",
   "metadata": {
    "scrolled": true
   },
   "outputs": [],
   "source": [
    "# Function to read in the prices data.\n",
    "\n",
    "def read_price_data(filename, index_col=0, parse_dates=True):\n",
    "    df = pd.read_csv(filename, index_col=0, parse_dates=True)\n",
    "\n",
    "    # Printing out the data frame’s info\n",
    "    print(\"Data Frame Info:\")\n",
    "    print(df.info())\n",
    "\n",
    "    print(\"===================\")\n",
    "    \n",
    "    # Checking for any null values\n",
    "    print(\"Null Values:\")\n",
    "    print(df.isnull().sum())\n",
    "\n",
    "    print(\"===================\")\n",
    "\n",
    "    # Prining the summary statistics\n",
    "    print(\"Summary Statistics: \")\n",
    "    print(df.describe())\n",
    "\n",
    "    print(\"===================\")\n",
    "\n",
    "    # Displaying the dataframe\n",
    "    print(\"Data Frame\")\n",
    "    print(df)\n",
    "\n",
    "    return df\n",
    "\n",
    "prices = read_price_data(\"Prices.csv\", index_col=0, parse_dates=True)"
   ]
  },
  {
   "cell_type": "markdown",
   "id": "f9ab55da-21d2-4203-acda-acce2bdf9404",
   "metadata": {},
   "source": [
    "----"
   ]
  },
  {
   "cell_type": "code",
   "execution_count": null,
   "id": "17c5ac16-951f-479e-b4f7-db9993570793",
   "metadata": {
    "scrolled": true
   },
   "outputs": [],
   "source": [
    "# Function for general formatting.\n",
    "\n",
    "def print_pct_data(data_frame, format_spec=\"{:.4%}\", na_rep=\"NaN\", index_slice=None):\n",
    "    if index_slice is not None:\n",
    "        return data_frame.style.format(format_spec, subset=index_slice, na_rep=na_rep)\n",
    "    else:\n",
    "        return data_frame.style.format(format_spec, na_rep=na_rep)\n",
    "\n",
    "# Function for formatting outputs and calculating summary stats. \n",
    "\n",
    "def calcSummaryStatistics(return_df, annualization_factor=260, print_screen=True, percent_format_string='{:.2%}'):\n",
    "    summary_stats = pd.DataFrame([annualization_factor * return_df.mean(),\n",
    "                                  np.sqrt(annualization_factor) * return_df.std(),\n",
    "                                  return_df.mean() / return_df.std() * np.sqrt(annualization_factor),\n",
    "                                  (return_df.cumsum().fillna(0) - np.maximum.accumulate(return_df.cumsum().fillna(0))).min(),\n",
    "                                  (return_df.dropna() >= 0).sum() / return_df.dropna().shape[0]],\n",
    "                                index=['Avg. Annual Return', 'Annual Risk', 'Sharpe Ratio', 'Max DD', 'Success Ratio'])\n",
    "\n",
    "    summary_stats_fmt = print_pct_data(summary_stats, format_spec=percent_format_string,\n",
    "                                       index_slice=pd.IndexSlice[[\"Avg. Annual Return\", \"Annual Risk\", \"Max DD\", \"Success Ratio\"], :])\n",
    "\n",
    "    return summary_stats_fmt"
   ]
  },
  {
   "cell_type": "markdown",
   "id": "ffb4f643-18c3-4e7f-9347-7323dc49e197",
   "metadata": {},
   "source": [
    "----"
   ]
  },
  {
   "cell_type": "code",
   "execution_count": null,
   "id": "9b256924-5232-448b-95f0-931e42cef2b6",
   "metadata": {
    "scrolled": true
   },
   "outputs": [],
   "source": [
    "# Function to implement moving average crossover strategies - Flat and Short. \n",
    "\n",
    "def movingAverageCrossover(df, fast_window, slow_window):\n",
    "    df_copy = df.copy()\n",
    "\n",
    "    # Calculate benchmark returns\n",
    "    df_copy['Benchmark'] = df_copy.iloc[:, 0].pct_change()\n",
    "\n",
    "    # Apply MA strategies\n",
    "    df_copy['FastSMA'] = df_copy.iloc[:, 0].rolling(window=fast_window).mean()\n",
    "    df_copy['SlowSMA'] = df_copy.iloc[:, 0].rolling(window=slow_window).mean()\n",
    "    \n",
    "    df_copy.dropna(inplace=True)\n",
    "    \n",
    "    df_copy['MAFlat'] = np.where(df_copy['FastSMA'] > df_copy['SlowSMA'], 1, 0)\n",
    "    df_copy['MAShort'] = np.where(df_copy['FastSMA'] > df_copy['SlowSMA'], 1, -1)\n",
    "\n",
    "    # Calculate strategy returns\n",
    "    df_copy[f\"{df_copy.columns[0]}-BMK\"] = df_copy.iloc[:, 0].pct_change()\n",
    "    df_copy[f\"{df_copy.columns[0]}-MAFlat\"] = df_copy['Benchmark'] * df_copy['MAFlat'].shift(1)\n",
    "    df_copy[f\"{df_copy.columns[0]}-MAShort\"] = df_copy['Benchmark'] * df_copy['MAShort'].shift(1)\n",
    "\n",
    "    return df_copy[[f\"{df_copy.columns[0]}-BMK\", f\"{df_copy.columns[0]}-MAFlat\", f\"{df_copy.columns[0]}-MAShort\"]]"
   ]
  },
  {
   "cell_type": "markdown",
   "id": "88c23654-e4c8-4ff1-87a9-394b0aa73c8d",
   "metadata": {},
   "source": [
    "----"
   ]
  },
  {
   "cell_type": "code",
   "execution_count": null,
   "id": "4a47f46d-f558-492b-b839-9fe0a2de4490",
   "metadata": {
    "scrolled": true
   },
   "outputs": [],
   "source": [
    "# Function to implement Bollinger Bands strategy. \n",
    "\n",
    "def bollingerBands(df, lookback, stdev_bands):\n",
    "    df = df.copy()\n",
    "\n",
    "    if len(df.columns) > 1:\n",
    "        raise ValueError('Dataframe should have only 1 column')\n",
    "\n",
    "    df['Mean'] = df[df.columns[0]].rolling(window=lookback).mean()\n",
    "    df['Stdev'] = df[df.columns[0]].rolling(window=lookback).std()\n",
    "    \n",
    "    df.dropna(inplace=True)\n",
    "    \n",
    "    df['Upper'] = df['Mean'] + stdev_bands*df['Stdev']\n",
    "    df['Lower'] = df['Mean'] - stdev_bands*df['Stdev']\n",
    "\n",
    "    df.loc[0, 'Position'] = 0\n",
    "    for i in range(1,len(df)):\n",
    "        today = df.index[i]\n",
    "        yesterday = df.index[i-1]\n",
    "\n",
    "        if df.loc[today, df.columns[0]] >= df.loc[today,'Upper']:\n",
    "            df.loc[today, 'Position'] = -1\n",
    "        elif df.loc[today, df.columns[0]] <= df.loc[today,'Lower']:\n",
    "            df.loc[today, 'Position'] = 1\n",
    "        elif df.loc[yesterday,'Position'] == -1 and df.loc[today, df.columns[0]] <= df.loc[today,'Mean']:\n",
    "            df.loc[today, 'Position'] = 0\n",
    "        elif df.loc[yesterday,'Position'] == 1 and df.loc[today, df.columns[0]] >= df.loc[today,'Mean']:\n",
    "            df.loc[today, 'Position'] = 0\n",
    "        else:\n",
    "            df.loc[today, 'Position'] = df.loc[yesterday,'Position']\n",
    "\n",
    "    df[f\"{df.columns[0]}-BMK\"] = df[df.columns[0]].pct_change()\n",
    "    df[f\"{df.columns[0]}-BB\"] = df[df.columns[0]].pct_change() * df['Position'].shift(1)\n",
    "\n",
    "    return df[[f\"{df.columns[0]}-BMK\", f\"{df.columns[0]}-BB\"]]"
   ]
  },
  {
   "cell_type": "markdown",
   "id": "e6f83c70-bafa-46f3-a6db-20549f46a6ae",
   "metadata": {},
   "source": [
    "----"
   ]
  },
  {
   "cell_type": "markdown",
   "id": "b2cd2146-a293-4a59-80ef-f07a919521ab",
   "metadata": {},
   "source": [
    "### Instruments Selected\n",
    "\n",
    "#### Equities:\n",
    "- AAPL, EXC, INTC, PFE, SPY\n",
    "\n",
    "#### Fixed Income:\n",
    "- FBNDX\n",
    "\n",
    "#### Commodity:\n",
    "- SPGSCI\n",
    "\n",
    "#### Currency:\n",
    "- CAD"
   ]
  },
  {
   "cell_type": "markdown",
   "id": "f9e1f435-5f7e-4469-a050-5053cba80fc1",
   "metadata": {},
   "source": [
    "----"
   ]
  },
  {
   "cell_type": "markdown",
   "id": "1c2765b2-f150-43e4-83a3-8b424c27143a",
   "metadata": {},
   "source": [
    "### Rationale for instrument selection\n",
    "\n",
    "##### 1. Equities:\n",
    "- AAPL and INTC ar high-yielding tech stocks. Provide opportunities for growth and can benefit from high tech spending, however these can introduce some volatility. \n",
    "- SPY being a broad-market ETF can help balance out some of the volatility by providing some stability and diversification across sectors.\n",
    "- EXC \n",
    "\n",
    "##### 2. Fixed Income Instruments:\n",
    "- FBNDX can help balance out the equities and provide further stability. Lower expense ratio and higher quality funds compared to VBTIX as well.\n",
    "\n",
    "##### 3. Commodity:\n",
    "- SPGSCI can act as an inflation hedge owing to its broad commodity make-up.\n",
    "\n",
    "##### 4. Currency:\n",
    "- CAD can appreciate with a rise in commodity prices and also adds some balance to the portfolio. \n",
    "\n",
    "#### Correlation\n",
    "\n",
    "FBNDX bonds, SPGSCI commodities, and CAD all exhibit low correlations with equities, providing diversification. If equities decline, bonds continue to hold value, commodities could rise with threats of inflation, and CAD could go up with commodity strength."
   ]
  },
  {
   "cell_type": "markdown",
   "id": "27378532-9d7d-4175-bcb8-17518ae7544e",
   "metadata": {},
   "source": [
    "----"
   ]
  },
  {
   "cell_type": "markdown",
   "id": "9729e23e-99fe-4add-bc22-9e791261eefc",
   "metadata": {},
   "source": [
    "#### Sensitivity Analysis"
   ]
  },
  {
   "cell_type": "code",
   "execution_count": null,
   "id": "7cf24480-71ee-4431-b869-4b85c32092b7",
   "metadata": {
    "scrolled": true
   },
   "outputs": [],
   "source": [
    "# Checking some instruments with crossover strategies to estimate optimal parameters. \n",
    "# Note: We have run the sensitivity analysis for a subset of our instruments to gauge the ideal parameters,\n",
    "# however we are only displaying it for one instance to avoid clutter in the notebook.\n",
    "\n",
    "fast_windows = range(5, 110)\n",
    "slow_windows = range(50, 500, 5)\n",
    "annualization_factor = 260\n",
    "\n",
    "# Initializing empty arrays to store sharpes and windows to use later for plotting.\n",
    "\n",
    "flat_sharpes = []\n",
    "short_sharpes = []\n",
    "fast_window = []\n",
    "slow_window = []\n",
    "\n",
    "\n",
    "for fw in fast_windows:\n",
    "    for sw in slow_windows:\n",
    "        if fw >= sw: \n",
    "            continue\n",
    "            \n",
    "        df = movingAverageCrossover(prices[['AAPL']], fw, sw)\n",
    "        df.columns = [f'AAPL-BMK', f'AAPL-MAFlat', f'AAPL-MAShort']\n",
    "        mean = df[f'AAPL-MAFlat'].mean() * annualization_factor\n",
    "        std = df[f'AAPL-MAFlat'].std() * np.sqrt(annualization_factor)\n",
    "        mean1 = df[f'AAPL-MAShort'].mean() * annualization_factor\n",
    "        std1 = df[f'AAPL-MAShort'].std() * np.sqrt(annualization_factor)\n",
    "        sharpe = mean / std\n",
    "        sharpe1 = mean1 / std1\n",
    "\n",
    "        flat_sharpes.append(sharpe)\n",
    "        short_sharpes.append(sharpe1)\n",
    "        fast_window.append(fw)\n",
    "        slow_window.append(sw)"
   ]
  },
  {
   "cell_type": "code",
   "execution_count": null,
   "id": "49f9bbee-b070-4070-831e-ec2720f6732c",
   "metadata": {
    "scrolled": true
   },
   "outputs": [],
   "source": [
    "plot_1 = plt.scatter(fast_window, slow_window, c=flat_sharpes, cmap='coolwarm_r')\n",
    "\n",
    "max_idx = flat_sharpes.index(max(flat_sharpes))\n",
    "plt.scatter(fast_window[max_idx], slow_window[max_idx], color='red', marker='*')\n",
    "plt.colorbar(plot_1, label='Sharpe Ratio')\n",
    "plt.title('AAPL Moving Average Crossover - Flat')\n",
    "plt.xlabel('Fast Window')\n",
    "plt.ylabel('Slow Window')\n",
    "\n",
    "\n",
    "plt.legend([f'Fast Win: {fast_window[max_idx]}, Slow Win: {slow_window[max_idx]}, Sharpe Ratios: {round(max(flat_sharpes), 2)}'])\n",
    "plt.show()"
   ]
  },
  {
   "cell_type": "markdown",
   "id": "052a7fe2-3474-43ba-aa0d-f16394eeb2cf",
   "metadata": {},
   "source": [
    "----"
   ]
  },
  {
   "cell_type": "code",
   "execution_count": null,
   "id": "a15a4840-8b92-4fe7-a3eb-3829a34ddc46",
   "metadata": {
    "scrolled": true
   },
   "outputs": [],
   "source": [
    "# Parameter estimation for Bollinger Bands strategy.\n",
    "# Note: We have run the sensitivity analysis for a subset of our instruments to gauge the ideal parameters,\n",
    "# however we are only displaying it for one instance to avoid clutter in the notebook.\n",
    "\n",
    "lookbacks = range(2, 50)\n",
    "bands = range(1, 4)\n",
    "lookback = []\n",
    "band = []\n",
    "bb_sharpes = []\n",
    "\n",
    "for lb in lookbacks:\n",
    "    for bd in bands:\n",
    "        df1 = bollingerBands(prices[['EXC']], lb, bd)\n",
    "        if not df1[f'EXC-BB'].std(): \n",
    "            continue\n",
    "        mean2 = df1[f'EXC-BB'].mean() * annualization_factor\n",
    "        std2 = df1[f'EXC-BB'].std() * np.sqrt(annualization_factor)\n",
    "        sharpe2 = mean2 / std2\n",
    "        bb_sharpes.append(sharpe2)\n",
    "        lookback.append(lb)\n",
    "        band.append(bd)"
   ]
  },
  {
   "cell_type": "code",
   "execution_count": null,
   "id": "4e3ec6bc-ac08-41fa-a41a-1dbc608c151c",
   "metadata": {
    "scrolled": true
   },
   "outputs": [],
   "source": [
    "plot_3 = plt.scatter(lookback, band, c=bb_sharpes, cmap='coolwarm_r')\n",
    "\n",
    "max_idx = bb_sharpes.index(max(bb_sharpes))\n",
    "plt.scatter(lookback[max_idx], band[max_idx], color='red', marker='*')\n",
    "\n",
    "plt.title('EXC - Bollinger Bands')\n",
    "plt.xlabel('Lookback Window')\n",
    "plt.ylabel('Standard Deviation Bands')  \n",
    "plt.colorbar(plot_3, label = 'Sharpe Ratio')\n",
    "\n",
    "plt.legend([f'Lookback Window: {lookback[max_idx]}, Bands: {band[max_idx]}, Sharpe Ratio: {round(max(bb_sharpes), 2)}'], loc = (0, 0.25))\n",
    "plt.show()"
   ]
  },
  {
   "cell_type": "markdown",
   "id": "9648829f-dbd0-4249-85ca-d13a6bc05fe3",
   "metadata": {},
   "source": [
    "----"
   ]
  },
  {
   "cell_type": "code",
   "execution_count": null,
   "id": "afc84d92-9cc1-404e-9524-cabb2e3ec15f",
   "metadata": {
    "scrolled": true
   },
   "outputs": [],
   "source": [
    "# Applying strategies for each instrument, by looping through every instrument for every strategy. \n",
    "\n",
    "equity_instruments = ['AAPL', 'EXC', 'INTC', 'PFE', 'SPY']\n",
    "fixed_income_instruments = ['FBNDX']\n",
    "commodity_instruments = ['SPGSCI']\n",
    "currency_instruments = ['CAD']\n",
    "\n",
    "all_instruments = equity_instruments + fixed_income_instruments + commodity_instruments + currency_instruments\n",
    "\n",
    "# Initializing empty lists to store results for each instrument. \n",
    "\n",
    "crossover_strategy_dfs = []\n",
    "bollinger_band_strategy_dfs = []\n",
    "crossover_columns = []\n",
    "bb_columns = []\n",
    "\n",
    "# Parameters\n",
    "\n",
    "fast_window = 11\n",
    "slow_window = 230\n",
    "lookback = 22\n",
    "stdev_bands = 1\n",
    "\n",
    "# Loop through each instrument.\n",
    "\n",
    "for instrument in all_instruments:\n",
    "\n",
    "    df_instrument = prices[[instrument]]\n",
    "\n",
    "    # Crossover strategies.\n",
    "    \n",
    "    df_crossover_strategies = movingAverageCrossover(df_instrument, fast_window, slow_window)\n",
    "    crossover_strategy_dfs.append(df_crossover_strategies)\n",
    "\n",
    "    # Bollinger Band strategy.\n",
    "    \n",
    "    df_bollinger_band_strategy = bollingerBands(df_instrument, lookback, stdev_bands)\n",
    "    bollinger_band_strategy_dfs.append(df_bollinger_band_strategy)\n",
    "\n",
    "    # Storing column names for each strategy separately to construct dataframes.\n",
    "    \n",
    "    crossover_columns.extend(df_crossover_strategies.columns)\n",
    "    bb_columns.extend(df_bollinger_band_strategy.columns)\n",
    "\n",
    "# Dataframe for crossover strategy returns\n",
    "\n",
    "merged_crossover_df = pd.concat(crossover_strategy_dfs, axis=1)\n",
    "merged_crossover_df.columns = crossover_columns  \n",
    "\n",
    "# Dataframe for Bollinger Bands strategy returns\n",
    "\n",
    "merged_bb_df = pd.concat(bollinger_band_strategy_dfs, axis=1)\n",
    "merged_bb_df.columns = bb_columns  \n",
    "\n",
    "\n",
    "\n",
    "summary_stats_crossover = calcSummaryStatistics(merged_crossover_df)\n",
    "\n",
    "summary_stats_bb = calcSummaryStatistics(merged_bb_df)"
   ]
  },
  {
   "cell_type": "markdown",
   "id": "895a4c56-a341-4884-bb1d-1347a244d028",
   "metadata": {},
   "source": [
    "----"
   ]
  },
  {
   "cell_type": "code",
   "execution_count": null,
   "id": "f52fda63-4414-4963-9e4d-87af39bd109c",
   "metadata": {
    "scrolled": true,
    "tags": []
   },
   "outputs": [],
   "source": [
    "print_pct_data(merged_crossover_df)"
   ]
  },
  {
   "cell_type": "markdown",
   "id": "7db54016-0f15-4fd1-9f78-126f250f0ea7",
   "metadata": {},
   "source": [
    "----"
   ]
  },
  {
   "cell_type": "code",
   "execution_count": null,
   "id": "13e1b3ef-4dae-493b-b801-04feef29d552",
   "metadata": {
    "scrolled": true,
    "tags": []
   },
   "outputs": [],
   "source": [
    "print_pct_data(merged_bb_df)"
   ]
  },
  {
   "cell_type": "markdown",
   "id": "bc9acf50-0e5d-428d-b8de-cfc7533fb7f0",
   "metadata": {},
   "source": [
    "----"
   ]
  },
  {
   "cell_type": "code",
   "execution_count": null,
   "id": "7e4f8f5a-077c-4efc-844e-3b0a1e593136",
   "metadata": {
    "scrolled": true
   },
   "outputs": [],
   "source": [
    "summary_stats_crossover"
   ]
  },
  {
   "cell_type": "markdown",
   "id": "8e5ae7dd-c4a0-44b8-b5a6-47f8b6caaabc",
   "metadata": {},
   "source": [
    "----"
   ]
  },
  {
   "cell_type": "code",
   "execution_count": null,
   "id": "9fc24566-edfe-4afc-a719-5e3a23fbe527",
   "metadata": {
    "scrolled": true
   },
   "outputs": [],
   "source": [
    "summary_stats_bb"
   ]
  },
  {
   "cell_type": "markdown",
   "id": "4770ac86-0c47-43fc-aef1-e3047263ff9e",
   "metadata": {},
   "source": [
    "----"
   ]
  },
  {
   "cell_type": "markdown",
   "id": "c052ab1b-a743-4019-9a23-2525bc264e06",
   "metadata": {},
   "source": [
    "### Instrument-Strategy selection for the final portfolio\n",
    "\n",
    "- Looking at the sharpe ratios for the different strategies, and by trying various different combinations for our portfolio, we found the following combination to be the best mix of instruments. \n",
    "\n",
    "- Not all our selections were based purely on the individual instrument's highest Sharpe Ratio, for example, we found CAD to have ta slightly higher Sharpe ratio for the Bollinger Band strategy, however, our portfolio overall performs better with the Go-Short strategy returns for CAD.\n",
    "\n",
    "- Final portoflio selections: \n",
    "\n",
    " **AAPL-MAFlat, EXC-BB, INTC-BB, PFE-BB, SPY-MAShort, FBNDX-MAShort, SPGSCI-MAFlat, CAD-MAShort**."
   ]
  },
  {
   "cell_type": "code",
   "execution_count": null,
   "id": "593af051-62ce-4c39-9f69-0c5e15c979b1",
   "metadata": {
    "scrolled": true
   },
   "outputs": [],
   "source": [
    "final_pf = merged_crossover_df[['AAPL-MAFlat']].join([\n",
    "    merged_bb_df['EXC-BB'], merged_bb_df['INTC-BB'], merged_bb_df['PFE-BB'],\n",
    "    merged_crossover_df['SPY-MAShort'], merged_crossover_df['FBNDX-MAShort'], merged_crossover_df['SPGSCI-MAFlat'],\n",
    "    merged_crossover_df['CAD-MAShort']],\n",
    "    how=\"inner\"\n",
    ")"
   ]
  },
  {
   "cell_type": "code",
   "execution_count": null,
   "id": "22e9817b-3fb4-4596-b6cc-212483816411",
   "metadata": {
    "scrolled": true,
    "tags": []
   },
   "outputs": [],
   "source": [
    "print_pct_data(final_pf)"
   ]
  },
  {
   "cell_type": "code",
   "execution_count": null,
   "id": "5eea4aaf-0e83-4c16-b7f6-b3bc662a6354",
   "metadata": {
    "scrolled": true
   },
   "outputs": [],
   "source": [
    "final_pf.columns"
   ]
  },
  {
   "cell_type": "code",
   "execution_count": null,
   "id": "060974bc-a5be-4c50-9de8-ea977a70a715",
   "metadata": {
    "scrolled": true
   },
   "outputs": [],
   "source": [
    "myPortfolioColumns = ['AAPL-MAFlat', 'EXC-BB', 'INTC-BB', 'PFE-BB', 'SPY-MAShort', 'FBNDX-MAShort', 'SPGSCI-MAFlat', 'CAD-MAShort']"
   ]
  },
  {
   "cell_type": "markdown",
   "id": "81f2e507-365f-4b66-8628-4e65075693e0",
   "metadata": {},
   "source": [
    "----"
   ]
  },
  {
   "cell_type": "markdown",
   "id": "7a0f3891-f82b-440e-a73e-e1f9f5815265",
   "metadata": {},
   "source": [
    "### Correlation"
   ]
  },
  {
   "cell_type": "code",
   "execution_count": null,
   "id": "cda8fffa-ea2c-4a7c-a7f5-c4e8e759dc0a",
   "metadata": {
    "scrolled": true
   },
   "outputs": [],
   "source": [
    "corr_pf = final_pf.corr()\n",
    "corr_pf.style.background_gradient(cmap='coolwarm')"
   ]
  },
  {
   "cell_type": "markdown",
   "id": "53db7daf-f551-4a26-8ec6-3619c8f45ad8",
   "metadata": {},
   "source": [
    "- We can observe that most of our instruments exhibit weak positive or negative correlation with the other instruments in the portfolio.\n",
    "- There are no large swings in either direction, and the instruments not being correlated introduces independence in the portfolio, i.e., the performance of one asset may not be strongly tied to the performance of another, potentially reducing overall portfolio risk and providing the benefits of diversification."
   ]
  },
  {
   "cell_type": "markdown",
   "id": "91f7a3c2-34b2-413a-8b9b-45f62569046d",
   "metadata": {},
   "source": [
    "----"
   ]
  },
  {
   "cell_type": "code",
   "execution_count": null,
   "id": "d9caec6b-5e50-499e-8915-0b2ae1db199b",
   "metadata": {
    "scrolled": true
   },
   "outputs": [],
   "source": [
    "# Sharpe Ratio for equal weight portfolio.\n",
    "\n",
    "equal_pf = final_pf.copy()\n",
    "\n",
    "# Calculating daily portfolio returns for the equal-weight portfolio.\n",
    "\n",
    "equal_pf['EqWt-Portfolio'] = equal_pf.iloc[:, :8].sum(axis=1) / 8  \n",
    "\n",
    "# Sharpe ratio calculation. \n",
    "\n",
    "annualized_portfolio_return = equal_pf['EqWt-Portfolio'].mean() * annualization_factor  \n",
    "annualized_portfolio_volatility = equal_pf['EqWt-Portfolio'].std() * np.sqrt(annualization_factor)\n",
    "\n",
    "sharpe_ratio_portfolio = annualized_portfolio_return / annualized_portfolio_volatility\n",
    "sharpe_ratio_portfolio"
   ]
  },
  {
   "cell_type": "code",
   "execution_count": null,
   "id": "563cf5aa-7fc9-4e03-8641-cceb09ad9611",
   "metadata": {
    "scrolled": true
   },
   "outputs": [],
   "source": [
    "calcSummaryStatistics(equal_pf[['EqWt-Portfolio']])"
   ]
  },
  {
   "cell_type": "markdown",
   "id": "7985b806-5066-4ab8-8df5-9d376cc2fddf",
   "metadata": {},
   "source": [
    "- Here, we can see that the Sharpe Ratio of **1.18** for the equal-weighted portfolio outperforms every strategy indivdiually. "
   ]
  },
  {
   "cell_type": "code",
   "execution_count": null,
   "id": "010e0d3f-ec14-4daa-aa4d-350ae36cae9a",
   "metadata": {
    "scrolled": true
   },
   "outputs": [],
   "source": [
    "# Single line Sharpe Ratio calculation for the equal Weight portfolio. (extra credit)\n",
    "# Equal weights are applied implicitly by taking the sum across axis=1 here.\n",
    "\n",
    "sharpe_ratio_t = ((final_pf.sum(axis=1).mean() * annualization_factor)/ (final_pf.sum(axis=1).std() * np.sqrt(260)))\n",
    "print(\"Equal-weighted Portfolio Sharpe Ratio:\", sharpe_ratio_t)"
   ]
  },
  {
   "cell_type": "markdown",
   "id": "ac4f5c6e-9090-43d5-8732-bb771c3de210",
   "metadata": {},
   "source": [
    "----"
   ]
  },
  {
   "cell_type": "markdown",
   "id": "f55b7bad-2889-4a3b-b7a8-740c92e1b78f",
   "metadata": {},
   "source": [
    "### Mean-Variance Optimization"
   ]
  },
  {
   "cell_type": "code",
   "execution_count": null,
   "id": "b57f7ae5-23fb-4c13-a736-a54522837634",
   "metadata": {
    "scrolled": true
   },
   "outputs": [],
   "source": [
    "# MVO via a Monte-Carlo Simulation with 5000 paths. \n",
    "\n",
    "rng = np.random.default_rng(seed=64)\n",
    "num_securities = final_pf.shape[1]\n",
    "paths = 5000\n",
    "pf_returns = []\n",
    "pf_risks = []\n",
    "sharpe_r = []\n",
    "weight_vec = []\n",
    "\n",
    "for i in range(paths):\n",
    "    wts = rng.random(final_pf.shape[1])\n",
    "    wts /= np.sum(wts)\n",
    "\n",
    "    pf_return = (annualization_factor * np.dot(wts, final_pf.mean().T))\n",
    "    pf_risk = np.sqrt(annualization_factor) * np.sqrt(np.dot(np.dot(wts, final_pf.cov()), wts.T))\n",
    "    sharpe = pf_return / pf_risk\n",
    "\n",
    "    pf_returns.append(pf_return)\n",
    "    pf_risks.append(pf_risk)\n",
    "    sharpe_r.append(sharpe)\n",
    "    weight_vec.append(wts)"
   ]
  },
  {
   "cell_type": "code",
   "execution_count": null,
   "id": "30de49cc-3daa-43eb-baf2-53328c8d0d3d",
   "metadata": {
    "scrolled": true
   },
   "outputs": [],
   "source": [
    "pf_returns = np.array(pf_returns)\n",
    "pf_risks = np.array(pf_risks)"
   ]
  },
  {
   "cell_type": "code",
   "execution_count": null,
   "id": "fb3287bb-d7e5-4649-8180-e73386e1006d",
   "metadata": {
    "scrolled": true
   },
   "outputs": [],
   "source": [
    "# Using 'coolwarm_r' to reverse the colormap.\n",
    "\n",
    "plt.scatter(pf_risks, pf_returns, c = sharpe_r, cmap='coolwarm_r')\n",
    "ax = plt.subplot()\n",
    "ax.xaxis.set_major_formatter(ticker.PercentFormatter(xmax=1.0, decimals=0))\n",
    "ax.yaxis.set_major_formatter(ticker.PercentFormatter(xmax=1.0, decimals=0))\n",
    "plt.xlabel('Risk (%) ')\n",
    "plt.ylabel('Return (%) ')\n",
    "plt.plot(pf_risks[np.argmin(pf_risks)], pf_returns[np.argmin(pf_risks)], 'b*', markersize=7.0, label='Min Vol Portfolio:x={:.2%}; y={:.2%}; {:1.2f}'.format(pf_risks[np.argmin(pf_risks)], pf_returns[np.argmin(pf_risks)], pf_returns[np.argmin(pf_risks)]/pf_risks[np.argmin(pf_risks)]))\n",
    "plt.plot(pf_risks[np.argmax(sharpe_r)], pf_returns[np.argmax(sharpe_r)], 'r*', markersize=7.0, label='Max Sharpe Portfolio:x={:.2%}; y={:.2%}; {:1.2f}'.format(pf_risks[np.argmax(sharpe_r)], pf_returns[np.argmax(sharpe_r)], np.max(sharpe_r)))\n",
    "plt.colorbar(label='Sharpe Ratio')\n",
    "plt.legend()"
   ]
  },
  {
   "cell_type": "markdown",
   "id": "3ceeead0-3137-4a7e-b540-f4cc2d35889e",
   "metadata": {},
   "source": [
    "----"
   ]
  },
  {
   "cell_type": "code",
   "execution_count": null,
   "id": "15bae980-488a-4a61-ad2e-51920d63cf21",
   "metadata": {
    "scrolled": true
   },
   "outputs": [],
   "source": [
    "combined_results = pd.DataFrame({'Volatility' : pf_risks, 'Returns' : pf_returns, 'Sharpe Ratio' : sharpe_r})"
   ]
  },
  {
   "cell_type": "code",
   "execution_count": null,
   "id": "c3f91e2d-fd18-40e4-be81-5579ccdc3b7f",
   "metadata": {
    "scrolled": true
   },
   "outputs": [],
   "source": [
    "combined_results['Sharpe Ratio'].max()"
   ]
  },
  {
   "cell_type": "code",
   "execution_count": null,
   "id": "4bfee142-a5d4-4fc5-a675-a179f1df0ba8",
   "metadata": {
    "scrolled": true
   },
   "outputs": [],
   "source": [
    "# Using the weights generated in the simulation for MVO, creating a weight vector.\n",
    "\n",
    "weight_vec_df = pd.DataFrame(weight_vec, columns=['AAPL-MAFlat', 'EXC-BB', 'INTC-BB', 'PFE-BB', 'SPY-MAShort', 'FBNDX-MAShort', 'SPGSCI-MAFlat', 'CAD-MAShort'])\n",
    "weight_vec_vol = weight_vec_df.iloc[combined_results['Volatility'].idxmin()]\n",
    "weight_vec_sharpe = weight_vec_df.iloc[combined_results['Sharpe Ratio'].idxmax()]\n",
    "\n",
    "weight_vec_final = pd.DataFrame({'Min Vol' : weight_vec_vol, 'Max Sharpe' : weight_vec_sharpe})\n",
    "print_pct_data(weight_vec_final)"
   ]
  },
  {
   "cell_type": "markdown",
   "id": "adbb4220-8a7d-4ba9-ad14-e65a3adf7bc2",
   "metadata": {},
   "source": [
    "#### Rationalizing the Weight Vectors\n",
    "\n",
    "- FBNDX and CAD having highest weights for the Minimum Volatility case. FBNDX, being a bond fund, is expected to be stable and low-risk and going short on it provides opportunities to hedge against interest rate risks and thus gets a higher weight while building a risk minimizing portfolio. Going short on currencies like CAD which can be volatile also hedges our portfolio against the associated risks. \n",
    "- AAPL has the highest weight for the Maximum Sharpe case. Being a high yield tech sector stock, the stock is expected to rally during bullish periods of the market and can be a reason behind its high weight when maximizing Sharpe.\n",
    "- SPY holds steady in both cases, implying a clear stability and strength behind the ETF owing to its implicit diversification.\n"
   ]
  },
  {
   "cell_type": "markdown",
   "id": "787271bf-ef31-4c7f-9c0c-c121356dd0b9",
   "metadata": {},
   "source": [
    "----"
   ]
  },
  {
   "cell_type": "markdown",
   "id": "dab3a915-72a8-4296-841c-bacc88a32f05",
   "metadata": {},
   "source": [
    "The Maximum Sharpe Ratio achieved after performinng Mean Variance Optimization with the specified parameters is **1.37**, which is relatively higher than the observed Sharpe Ratio of the Equal Weight Portfolio, which was **1.18**."
   ]
  },
  {
   "cell_type": "markdown",
   "id": "fff658c3-780d-4e30-8117-ae8517c71b57",
   "metadata": {},
   "source": [
    "----"
   ]
  },
  {
   "cell_type": "code",
   "execution_count": null,
   "id": "90b00cc7-917d-41cd-aee0-47f8079a7992",
   "metadata": {
    "scrolled": true
   },
   "outputs": [],
   "source": [
    "# Using the Max Sharpe weight values from the weight vector and applying the weights to the final portfolio.\n",
    "\n",
    "max_sharpe_returns = (final_pf * weight_vec_sharpe).sum(axis=1)\n",
    "\n",
    "final_pf['MaxSharpe'] = max_sharpe_returns\n",
    "\n",
    "print_pct_data(final_pf)"
   ]
  },
  {
   "cell_type": "code",
   "execution_count": null,
   "id": "cd244694-6384-4e02-a84c-cbdf7b7f73af",
   "metadata": {
    "scrolled": true
   },
   "outputs": [],
   "source": [
    "calcSummaryStatistics(final_pf)"
   ]
  },
  {
   "cell_type": "markdown",
   "id": "a066dd2a-2d7d-4b05-b175-a60d36c32f2b",
   "metadata": {},
   "source": [
    "- From this table, we can see that the Max Sharpe portfolio fares much better when compared to all the other instruments individually.\n",
    "- It has a considerabbly higher Sharpe ratio of **1.37**, which is consistent with the Maximum Sharpe we achieved in our MVO.\n",
    "- It also has a very low value for Max Drawdown at **-10.96%** which indicates that it does not go through large fluctuations."
   ]
  },
  {
   "cell_type": "markdown",
   "id": "5bcbcc8f-1ba0-42b4-b5d7-1c78d06c3a6c",
   "metadata": {},
   "source": [
    "----"
   ]
  },
  {
   "cell_type": "markdown",
   "id": "8fa75ef5-d971-4a7d-9a55-24180b15e1e7",
   "metadata": {},
   "source": [
    "### Beta Calculation"
   ]
  },
  {
   "cell_type": "code",
   "execution_count": null,
   "id": "1730a8e9-cc45-4ae7-b888-8e94565f28aa",
   "metadata": {
    "scrolled": true
   },
   "outputs": [],
   "source": [
    "# Fitting a linear regression model with the SPY Benchmark returns keeping the starting dates consistent, \n",
    "# and the Max Sharpe Portfolio, to calculate the Beta.\n",
    "\n",
    "port_Reg = LinearRegression().fit(merged_crossover_df.fillna(0)[['SPY-BMK']], final_pf['MaxSharpe'])"
   ]
  },
  {
   "cell_type": "code",
   "execution_count": null,
   "id": "731b1c01-606d-4239-b09d-c6f80f107c92",
   "metadata": {
    "scrolled": true
   },
   "outputs": [],
   "source": [
    "pf_beta = port_Reg.coef_"
   ]
  },
  {
   "cell_type": "code",
   "execution_count": null,
   "id": "7f89b2f3-1b31-42d4-a9a5-80854e19bf87",
   "metadata": {
    "scrolled": true
   },
   "outputs": [],
   "source": [
    "print(f\"The Beta for the Max Sharpe portfolio against the S&P500 is: {pf_beta}\")"
   ]
  },
  {
   "cell_type": "markdown",
   "id": "cbb6f814-d394-465e-9025-dbc8dc17c94c",
   "metadata": {},
   "source": [
    "#### Beta Implications\n",
    "\n",
    "- A Beta of **0.106** vs SPY suggests that our portfolio returns are mostly independent from the overall stock market, with significantly lower volatility (risk) compared to a broad index fund, in this case, the S&P500. This could be beneficial during times of high market volatility. But in strong periods of the market, this low correlation means the protfolio may trail the higher returns of SPY."
   ]
  },
  {
   "cell_type": "markdown",
   "id": "9807dd25-9001-44f0-83e0-e17174ba665c",
   "metadata": {},
   "source": [
    "----"
   ]
  },
  {
   "cell_type": "markdown",
   "id": "4709d324-5739-49b6-8be2-18c61c23e3d4",
   "metadata": {},
   "source": [
    "### Benchmark Returns"
   ]
  },
  {
   "cell_type": "code",
   "execution_count": null,
   "id": "68dd3432-5433-4b7e-8051-5d06a1a8b3c1",
   "metadata": {
    "scrolled": true
   },
   "outputs": [],
   "source": [
    "# Portfolio with all benchmark returns.\n",
    "\n",
    "equal_bmk = merged_crossover_df[['PFE-BMK']].join([\n",
    "    merged_crossover_df['AAPL-BMK'], merged_crossover_df['INTC-BMK'], merged_crossover_df['SPY-BMK'],\n",
    "    merged_crossover_df['EXC-BMK'], merged_crossover_df['FBNDX-BMK'], merged_crossover_df['SPGSCI-BMK'],\n",
    "    merged_crossover_df['CAD-BMK']],\n",
    "    how=\"inner\"\n",
    ")"
   ]
  },
  {
   "cell_type": "code",
   "execution_count": null,
   "id": "e9e2a517-11a7-4065-b5a8-6bb93a4a1252",
   "metadata": {
    "scrolled": true
   },
   "outputs": [],
   "source": [
    "equal_bmk['Portfolio'] = equal_bmk.iloc[:, :8].sum(axis=1) / 8 \n",
    "#print_pct_data(equal_bmk)"
   ]
  },
  {
   "cell_type": "code",
   "execution_count": null,
   "id": "65b6fa89",
   "metadata": {
    "scrolled": true
   },
   "outputs": [],
   "source": [
    "calcSummaryStatistics(equal_bmk['Portfolio'])"
   ]
  },
  {
   "cell_type": "markdown",
   "id": "a589e66c-5945-43dc-a7f7-29c638121634",
   "metadata": {},
   "source": [
    "- Equal weighted portoflio with all Benchmark returns has a Sharpe Ratio of **0.533**."
   ]
  },
  {
   "cell_type": "code",
   "execution_count": null,
   "id": "fd223808-d89d-47a4-9caf-b95cb1d0c1b5",
   "metadata": {
    "scrolled": true
   },
   "outputs": [],
   "source": [
    "# Portfolio with all Go-Flat strategy returns.\n",
    "\n",
    "equal_flat = merged_crossover_df[['PFE-MAFlat']].join([\n",
    "    merged_crossover_df['AAPL-MAFlat'], merged_crossover_df['INTC-MAFlat'], merged_crossover_df['SPY-MAFlat'],\n",
    "    merged_crossover_df['EXC-MAFlat'], merged_crossover_df['FBNDX-MAFlat'], merged_crossover_df['SPGSCI-MAFlat'],\n",
    "    merged_crossover_df['CAD-MAFlat']],\n",
    "    how=\"inner\"\n",
    ")"
   ]
  },
  {
   "cell_type": "code",
   "execution_count": null,
   "id": "9aafb6d6-bb8f-4c7c-94d2-e7a2f5ca2598",
   "metadata": {
    "scrolled": true
   },
   "outputs": [],
   "source": [
    "equal_flat['Portfolio'] = equal_flat.iloc[:, :8].sum(axis=1) / 8 \n",
    "#print_pct_data(equal_flat)"
   ]
  },
  {
   "cell_type": "code",
   "execution_count": null,
   "id": "a9cf6e0c",
   "metadata": {
    "scrolled": true
   },
   "outputs": [],
   "source": [
    "calcSummaryStatistics(equal_flat['Portfolio'])"
   ]
  },
  {
   "cell_type": "markdown",
   "id": "7b97632c-559d-48bb-b31e-98a20a476675",
   "metadata": {},
   "source": [
    "- Equal weighted portoflio with Go-Flat strategy applied to all instruments' returns has a Sharpe Ratio of **0.846**."
   ]
  },
  {
   "cell_type": "code",
   "execution_count": null,
   "id": "398bf446-cf10-4a97-af08-9277fcd360a7",
   "metadata": {
    "scrolled": true
   },
   "outputs": [],
   "source": [
    "# Portfolio with all Go-Short returns.\n",
    "\n",
    "equal_short = merged_crossover_df[['PFE-MAShort']].join([\n",
    "    merged_crossover_df['AAPL-MAShort'], merged_crossover_df['INTC-MAShort'], merged_crossover_df['SPY-MAShort'],\n",
    "    merged_crossover_df['EXC-MAShort'], merged_crossover_df['FBNDX-MAShort'], merged_crossover_df['SPGSCI-MAShort'],\n",
    "    merged_crossover_df['CAD-MAShort']],\n",
    "    how=\"inner\"\n",
    ")"
   ]
  },
  {
   "cell_type": "code",
   "execution_count": null,
   "id": "bbd04012-33ee-49e8-a32d-d4e0bfa43848",
   "metadata": {
    "scrolled": true
   },
   "outputs": [],
   "source": [
    "equal_short['Portfolio'] = equal_short.iloc[:, :8].sum(axis=1) / 8 \n",
    "#print_pct_data(equal_short)"
   ]
  },
  {
   "cell_type": "code",
   "execution_count": null,
   "id": "3c3aeae0",
   "metadata": {
    "scrolled": true
   },
   "outputs": [],
   "source": [
    "calcSummaryStatistics(equal_short['Portfolio'])"
   ]
  },
  {
   "cell_type": "markdown",
   "id": "0fb30e4d-23a7-4d3f-8c2b-ff31428f185f",
   "metadata": {},
   "source": [
    "- Equal weighted portoflio with Go-Short strategy applied to all instruments' returns has a Sharpe Ratio of **0.461**."
   ]
  },
  {
   "cell_type": "code",
   "execution_count": null,
   "id": "bccb56f3-3991-47ef-8bc9-c846c0dff93c",
   "metadata": {
    "scrolled": true
   },
   "outputs": [],
   "source": [
    "# Portfolio with all Bollinger Bands strategy returns.\n",
    "\n",
    "equal_bb = merged_bb_df[['PFE-BB']].join([\n",
    "    merged_bb_df['AAPL-BB'], merged_bb_df['INTC-BB'], merged_bb_df['SPY-BB'],\n",
    "    merged_bb_df['EXC-BB'], merged_bb_df['FBNDX-BB'], merged_bb_df['SPGSCI-BB'],\n",
    "    merged_bb_df['CAD-BB']],\n",
    "    how=\"inner\"\n",
    ")"
   ]
  },
  {
   "cell_type": "code",
   "execution_count": null,
   "id": "3da9417c-d12a-4c7d-8bb3-56e789124476",
   "metadata": {
    "scrolled": true
   },
   "outputs": [],
   "source": [
    "equal_bb['Portfolio'] = equal_bb.iloc[:, :8].sum(axis=1) / 8  \n",
    "#print_pct_data(equal_bb)"
   ]
  },
  {
   "cell_type": "code",
   "execution_count": null,
   "id": "248ab88f",
   "metadata": {
    "scrolled": true
   },
   "outputs": [],
   "source": [
    "calcSummaryStatistics(equal_bb['Portfolio'])"
   ]
  },
  {
   "cell_type": "markdown",
   "id": "18aceef7-819a-48ec-b8fc-e43f970a7e95",
   "metadata": {},
   "source": [
    "- Equal weighted portoflio with Bollinger Bands strategy applied to all instruments' returns has a Sharpe Ratio of **0.161**."
   ]
  },
  {
   "cell_type": "markdown",
   "id": "046a1ba2-d084-4644-a3f0-5add902abaf3",
   "metadata": {},
   "source": [
    "----"
   ]
  },
  {
   "cell_type": "markdown",
   "id": "dfe82de8-4f87-4b7c-9533-bede86641864",
   "metadata": {},
   "source": [
    "- Note: None of these 4 portfolios outperform the Max Sharpe Portoflio, which had a Sharpe Ratio of **1.37**.\n",
    "\n",
    "- Among these 4, the portfolio with all instruments run through the Go-Flat strategy has the highest Sharpe Ratio of **0.846**"
   ]
  }
 ],
 "metadata": {
  "kernelspec": {
   "display_name": "Python 3 (ipykernel)",
   "language": "python",
   "name": "python3"
  },
  "language_info": {
   "codemirror_mode": {
    "name": "ipython",
    "version": 3
   },
   "file_extension": ".py",
   "mimetype": "text/x-python",
   "name": "python",
   "nbconvert_exporter": "python",
   "pygments_lexer": "ipython3",
   "version": "3.9.13"
  }
 },
 "nbformat": 4,
 "nbformat_minor": 5
}
